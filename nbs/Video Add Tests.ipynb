{
 "cells": [
  {
   "cell_type": "code",
   "execution_count": 1,
   "id": "768e3eba",
   "metadata": {},
   "outputs": [
    {
     "name": "stdout",
     "output_type": "stream",
     "text": [
      "D:\\Programs\\workdir\\video_membership_tutorial\\app\n"
     ]
    }
   ],
   "source": [
    "%cd ../app/"
   ]
  },
  {
   "cell_type": "code",
   "execution_count": 2,
   "id": "d186601c",
   "metadata": {},
   "outputs": [],
   "source": [
    "import db\n",
    "from cassandra.cqlengine.management import sync_table\n",
    "from users.models import User\n",
    "from videos.models import Video"
   ]
  },
  {
   "cell_type": "code",
   "execution_count": 3,
   "id": "f29e1353",
   "metadata": {},
   "outputs": [],
   "source": [
    "db.get_session()\n",
    "sync_table(Video)\n",
    "sync_table(User)"
   ]
  },
  {
   "cell_type": "code",
   "execution_count": 8,
   "id": "68722fe6",
   "metadata": {},
   "outputs": [],
   "source": [
    "url = \"https://www.youtube.com/watch?v=HvDJH3LUY8M\"\n",
    "url_2 = \"https://www.youtube.com/watch?v=5DoFnE-yP3I\""
   ]
  },
  {
   "cell_type": "code",
   "execution_count": 5,
   "id": "2927f517",
   "metadata": {},
   "outputs": [
    {
     "data": {
      "text/plain": [
       "User(email=abc2@test.com, user_id=117bb618-7e09-11ec-854e-e0d55ee31a83)"
      ]
     },
     "execution_count": 5,
     "metadata": {},
     "output_type": "execute_result"
    }
   ],
   "source": [
    "abc = User.objects.get(email=\"abc2@test.com\")\n",
    "abc"
   ]
  },
  {
   "cell_type": "code",
   "execution_count": 6,
   "id": "5d108b30",
   "metadata": {},
   "outputs": [],
   "source": [
    "obj = Video.add_video(url, user_id=abc.user_id)"
   ]
  },
  {
   "cell_type": "code",
   "execution_count": 7,
   "id": "09aa719c",
   "metadata": {},
   "outputs": [
    {
     "data": {
      "text/plain": [
       "Video(host_id=HvDJH3LUY8M, host_service=youtube)"
      ]
     },
     "execution_count": 7,
     "metadata": {},
     "output_type": "execute_result"
    }
   ],
   "source": [
    "obj"
   ]
  },
  {
   "cell_type": "code",
   "execution_count": 9,
   "id": "01d374ad",
   "metadata": {},
   "outputs": [
    {
     "data": {
      "text/plain": [
       "Video(host_id=5DoFnE-yP3I, host_service=youtube)"
      ]
     },
     "execution_count": 9,
     "metadata": {},
     "output_type": "execute_result"
    }
   ],
   "source": [
    "obj_2 = Video.add_video(url_2, user_id=abc.user_id)\n",
    "obj_2"
   ]
  },
  {
   "cell_type": "code",
   "execution_count": null,
   "id": "a7387d49",
   "metadata": {},
   "outputs": [],
   "source": []
  }
 ],
 "metadata": {
  "kernelspec": {
   "display_name": "Python 3 (ipykernel)",
   "language": "python",
   "name": "python3"
  },
  "language_info": {
   "codemirror_mode": {
    "name": "ipython",
    "version": 3
   },
   "file_extension": ".py",
   "mimetype": "text/x-python",
   "name": "python",
   "nbconvert_exporter": "python",
   "pygments_lexer": "ipython3",
   "version": "3.10.1"
  }
 },
 "nbformat": 4,
 "nbformat_minor": 5
}
