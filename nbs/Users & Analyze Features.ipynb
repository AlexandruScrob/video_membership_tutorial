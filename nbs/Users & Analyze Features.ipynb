{
 "cells": [
  {
   "cell_type": "code",
   "execution_count": 1,
   "id": "768e3eba",
   "metadata": {},
   "outputs": [
    {
     "name": "stdout",
     "output_type": "stream",
     "text": [
      "D:\\Programs\\workdir\\video_membership_tutorial\\app\n"
     ]
    }
   ],
   "source": [
    "%cd ../app/"
   ]
  },
  {
   "cell_type": "code",
   "execution_count": 2,
   "id": "d186601c",
   "metadata": {},
   "outputs": [],
   "source": [
    "import db\n",
    "from cassandra.cqlengine.management import sync_table\n",
    "from users.models import User"
   ]
  },
  {
   "cell_type": "code",
   "execution_count": 3,
   "id": "f29e1353",
   "metadata": {},
   "outputs": [],
   "source": [
    "db.get_session()\n",
    "sync_table(User)"
   ]
  },
  {
   "cell_type": "code",
   "execution_count": 37,
   "id": "81381805",
   "metadata": {},
   "outputs": [],
   "source": [
    "# User.create_user(\"test_email@test\", password=\"aaaaa\")"
   ]
  },
  {
   "cell_type": "code",
   "execution_count": 4,
   "id": "ea4f1118",
   "metadata": {},
   "outputs": [],
   "source": [
    "user_a = User.create_user(\"abc@test.com\", password=\"abc123\")"
   ]
  },
  {
   "cell_type": "code",
   "execution_count": 7,
   "id": "db586206",
   "metadata": {},
   "outputs": [
    {
     "data": {
      "text/plain": [
       "'$argon2id$v=19$m=65536,t=3,p=4$5RCqdBs/KHMYI9FLsB6JAw$DUSYBdqz8vLHpKWX+9lm6SXo/7C3wNndxQ/SJY0bKD4'"
      ]
     },
     "execution_count": 7,
     "metadata": {},
     "output_type": "execute_result"
    }
   ],
   "source": [
    "user_a.password"
   ]
  },
  {
   "cell_type": "code",
   "execution_count": 9,
   "id": "56c5b1d0",
   "metadata": {},
   "outputs": [
    {
     "data": {
      "text/plain": [
       "True"
      ]
     },
     "execution_count": 9,
     "metadata": {},
     "output_type": "execute_result"
    }
   ],
   "source": [
    "user_a.verify_password(\"abc123\")"
   ]
  },
  {
   "cell_type": "code",
   "execution_count": null,
   "id": "da40b3c7",
   "metadata": {},
   "outputs": [],
   "source": []
  }
 ],
 "metadata": {
  "kernelspec": {
   "display_name": "Python 3 (ipykernel)",
   "language": "python",
   "name": "python3"
  },
  "language_info": {
   "codemirror_mode": {
    "name": "ipython",
    "version": 3
   },
   "file_extension": ".py",
   "mimetype": "text/x-python",
   "name": "python",
   "nbconvert_exporter": "python",
   "pygments_lexer": "ipython3",
   "version": "3.10.1"
  }
 },
 "nbformat": 4,
 "nbformat_minor": 5
}
